{
 "cells": [
  {
   "cell_type": "code",
   "execution_count": null,
   "metadata": {},
   "outputs": [],
   "source": [
    "#Boueny's Audio Library\n",
    "from IPython.display import Audio\n",
    "import numpy as np\n",
    "def save_audio(audio, filename=\"test\"):\n",
    "    \"\"\"\n",
    "    Save an audio signal to a file.\n",
    "    \"\"\"\n",
    "    with open(filename, \"wb\") as f:\n",
    "        f.write(audio.data)\n",
    "def save_wave(samples, sample_rate=44100, filename=\"test\"):\n",
    "    save_audio(Audio(samples, rate=sample_rate), filename)\n",
    "def display_sound(times, sound):\n",
    "    fig, ax = plt.subplots()\n",
    "    ax.plot(times, sound)\n",
    "    ax.set_ylabel(\"Pressure [Pa]\")\n",
    "    ax.set_xlabel(\"Time [s]\")\n",
    "    return fig, ax\n",
    "def display_waveform(times, waveform, frequency: float, periods=-1, sampling_rate=44100):\n",
    "    t=times\n",
    "    pressures=waveform\n",
    "    if(periods != -1):\n",
    "        seconds = periods * (1 / frequency)\n",
    "        t = t[:int(seconds * sampling_rate)]\n",
    "        pressures = pressures[:int(seconds * sampling_rate)]\n",
    "    return display_sound(t, pressures)\n",
    "def pressure(times: np.ndarray, *, amp: float, freq: float, phase_shift) -> np.ndarray:\n",
    "    return amp * np.sin(2 * np.pi * freq * times + phase_shift)\n",
    "def fourier_complex_to_real(\n",
    "    complex_coeffs: np.ndarray, N: int\n",
    ") -> Tuple[np.ndarray, np.ndarray]:\n",
    "    amplitudes = np.abs(complex_coeffs) / N\n",
    "    amplitudes[1 : (-1 if N % 2 == 0 else None)] *= 2\n",
    "\n",
    "    phases = np.arctan2(-complex_coeffs.imag, complex_coeffs.real)\n",
    "    return amplitudes, phases"
   ]
  }
 ],
 "metadata": {
  "language_info": {
   "name": "python"
  },
  "orig_nbformat": 4
 },
 "nbformat": 4,
 "nbformat_minor": 2
}
