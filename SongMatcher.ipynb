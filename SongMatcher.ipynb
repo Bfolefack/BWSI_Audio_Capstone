{
 "cells": [
  {
   "cell_type": "code",
   "execution_count": 2,
   "metadata": {},
   "outputs": [],
   "source": [
    "import matplotlib.pyplot as plt\n",
    "import numpy as np\n",
    "import librosa\n",
    "from microphone import record_audio\n",
    "\n",
    "%matplotlib widget"
   ]
  },
  {
   "cell_type": "code",
   "execution_count": null,
   "metadata": {},
   "outputs": [],
   "source": [
    "def load_audio(filename):\n",
    "    \"\"\"\n",
    "    Loads a song from a file.\n",
    "    \"\"\"\n",
    "    with open(filename) as f:\n",
    "        return librosa.load(f, sr=44100, mono=True,)\n",
    "    \n",
    "def record_audio(seconds=10):\n",
    "    \"\"\"\n",
    "    Records a song from the microphone.\n",
    "    \"\"\"\n",
    "    frames, sample_rate = record_audio(seconds)\n",
    "    samples = np.hstack([np.frombuffer(frame, dtype=np.int16) for frame in frames])\n",
    "    return samples, sample_rate\n"
   ]
  }
 ],
 "metadata": {
  "kernelspec": {
   "display_name": "Python 3.7.13 ('week1')",
   "language": "python",
   "name": "python3"
  },
  "language_info": {
   "codemirror_mode": {
    "name": "ipython",
    "version": 3
   },
   "file_extension": ".py",
   "mimetype": "text/x-python",
   "name": "python",
   "nbconvert_exporter": "python",
   "pygments_lexer": "ipython3",
   "version": "3.7.13"
  },
  "orig_nbformat": 4,
  "vscode": {
   "interpreter": {
    "hash": "021268ebb9d1b1811095ee9e08b6a38929b9c54adbe719e76df5ddfc2d8ce2e2"
   }
  }
 },
 "nbformat": 4,
 "nbformat_minor": 2
}
