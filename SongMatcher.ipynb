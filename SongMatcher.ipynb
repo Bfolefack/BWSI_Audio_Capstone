{
 "cells": [
  {
   "cell_type": "code",
   "execution_count": 1,
   "metadata": {},
   "outputs": [],
   "source": [
    "import PeakFinder\n",
    "import SoundLoader\n",
    "import Utils\n",
    "import Splice\n",
    "import FingerprintDatabase\n",
    "import Spectrogram\n",
    "import numpy as np\n",
    "\n",
    "\n",
    "\n",
    "\n",
    "%matplotlib widget\n",
    "\n",
    "# wave = SoundLoader.load_audio(\"Songs/Pigstep.mp3\")[0]\n",
    "# wave = Splice.random_splice(\"Songs/Pigstep.mp3\", 2)\n"
   ]
  },
  {
   "cell_type": "code",
   "execution_count": 2,
   "metadata": {},
   "outputs": [],
   "source": [
    "# print(len(wave))\n",
    "# # spec = wave[Spectrogram.spectrogram(:)]\n",
    "# vec = np.array(wave)\n",
    "# spec = np.ndarray((len(vec)), dtype=np.ndarray)\n",
    "# for i in range(len(vec)) :\n",
    "#     spec[i] = Spectrogram.spectrogram(vec[i], True)"
   ]
  },
  {
   "cell_type": "code",
   "execution_count": 3,
   "metadata": {},
   "outputs": [],
   "source": [
    "# print(spec[0].shape)\n",
    "# peaks = np.zeros((len(spec)), dtype=object)\n",
    "# for i in range(len(spec)):\n",
    "#     peaks[i] = PeakFinder.get_peaks(spec[i])"
   ]
  },
  {
   "cell_type": "code",
   "execution_count": 4,
   "metadata": {},
   "outputs": [],
   "source": [
    "# # data is a list of peak tuples -> (freq, time)\n",
    "# import FanOut\n",
    "# fingerprint =  np.zeros((len(peaks)), dtype=object)\n",
    "# for i in range (len(peaks)):\n",
    "#     fingerprint[i] = FanOut.generate_tuples(peaks[i])\n",
    "# print(len(fingerprint))\n",
    "# # for i in range(len(fingerprint[0][-15])): print(f\"{fingerprint[0][456][i]}\\n\")\n"
   ]
  },
  {
   "cell_type": "code",
   "execution_count": 5,
   "metadata": {},
   "outputs": [],
   "source": [
    "import FingerprintDatabase\n",
    "import SongDatabase\n",
    "\n",
    "SongDatabase.add_song(\"Hard Times\", \"Paramore\", 2017) #song1\n",
    "SongDatabase.add_song(\"Classic\", \"MKT\", 2013) #song2\n",
    "SongDatabase.add_song(\"September\", \"Earth, Wind & Fire\", 1978) #song3\n",
    "SongDatabase.add_song(\"Running Up That Hill\", \"Earth, Wind & Fire\", 1978) #song4\n",
    "SongDatabase.add_song(\"Hotel California\", \"Eagles\", 1976) #song5\n",
    "SongDatabase.add_song(\"Careless Whisper\", \"George Michael\", 1984) #song6\n",
    "SongDatabase.add_song(\"Dark Necessities\", \"Red Hot Chilli Peppers\", 2016) #song7\n",
    "SongDatabase.add_song(\"Cat\", \"C418\", 2021) #song8\n",
    "SongDatabase.add_song(\"Nothings Gonna Hurt You Baby\", \"Cigarrettes\", 2012) #song9\n",
    "SongDatabase.add_song(\"Ho Hey\", \"The Lumineers\", 2012) #song10\n",
    "SongDatabase.add_song(\"Far\", \"C418\", 2013) #song11\n",
    "SongDatabase.add_song(\"Mall\", \"C418\", 2013) #song12\n",
    "SongDatabase.add_song(\"Mellohi\", \"C418\", 2021) #song13\n",
    "SongDatabase.add_song(\"Strad\", \"C418\", 2017) #song14\n",
    "SongDatabase.add_song(\"Rhiannon\", \"Fleetwood Mac\", 1975) #song15\n",
    "SongDatabase.add_song(\"Ophelia\", \"The Lumineers\", 2016) #song16\n",
    "SongDatabase.add_song(\"Blocks\", \"C418\", 2013) #song17\n",
    "SongDatabase.add_song(\"Can't Stop\", \"Red Hot Chilli Peppers\", 2002) #song18\n",
    "SongDatabase.add_song(\"Carolina\", \"Taylor Swift\", 2022) #song19\n",
    "SongDatabase.add_song(\"Otherside\", \"Lena Raine\", 2021) #song20\n",
    "SongDatabase.add_song(\"Oh! Darling\", \"The Beatles\", 1969) #song21\n",
    "SongDatabase.add_song(\"Gypsy\", \"Fleetwood Mac\", 1982) #song22\n",
    "SongDatabase.add_song(\"Angeleyes\", \"ABBA\", 1999) #song23\n",
    "SongDatabase.add_song(\"Hurricane\", \"Kanye West\", 2021) #song24\n",
    "SongDatabase.add_song(\"Wait\", \"C418\", 2013) #song25\n",
    "SongDatabase.add_song(\"Everybody Has a Dream\", \"Billy Joel\", 1977) #song26)\n",
    "\n"
   ]
  },
  {
   "cell_type": "code",
   "execution_count": 6,
   "metadata": {},
   "outputs": [
    {
     "name": "stdout",
     "output_type": "stream",
     "text": [
      "Wait by C418 released in 2013\n",
      "Songs/Wait.mp3\n"
     ]
    },
    {
     "name": "stderr",
     "output_type": "stream",
     "text": [
      "c:\\Users\\bouen\\.conda\\envs\\week1\\lib\\site-packages\\librosa\\util\\decorators.py:88: UserWarning: PySoundFile failed. Trying audioread instead.\n",
      "  return f(*args, **kwargs)\n"
     ]
    },
    {
     "name": "stdout",
     "output_type": "stream",
     "text": [
      "-19.385067295765097\n",
      "Blocks by C418 released in 2013\n",
      "Songs/Blocks.mp3\n"
     ]
    },
    {
     "name": "stderr",
     "output_type": "stream",
     "text": [
      "c:\\Users\\bouen\\.conda\\envs\\week1\\lib\\site-packages\\librosa\\util\\decorators.py:88: UserWarning: PySoundFile failed. Trying audioread instead.\n",
      "  return f(*args, **kwargs)\n"
     ]
    },
    {
     "name": "stdout",
     "output_type": "stream",
     "text": [
      "-24.79923042890459\n",
      "Mellohi by C418 released in 2021\n",
      "Songs/Mellohi.mp3\n",
      "-25.698319264655336\n",
      "Mall by C418 released in 2013\n",
      "Songs/Mall.mp3\n",
      "-27.017652720102\n"
     ]
    }
   ],
   "source": [
    "\n",
    "base = FingerprintDatabase.song_database()\n",
    "num = 25\n",
    "print(SongDatabase.get_song(num))\n",
    "base.add_song(SongDatabase.get_fanout(num), num)\n",
    "num = 17\n",
    "print(SongDatabase.get_song(num))\n",
    "base.add_song(SongDatabase.get_fanout(num), num)\n",
    "num = 13\n",
    "print(SongDatabase.get_song(num))\n",
    "base.add_song(SongDatabase.get_fanout(num), num)\n",
    "num = 12\n",
    "print(SongDatabase.get_song(num))\n",
    "base.add_song(SongDatabase.get_fanout(num), num)"
   ]
  },
  {
   "cell_type": "code",
   "execution_count": 8,
   "metadata": {},
   "outputs": [
    {
     "name": "stdout",
     "output_type": "stream",
     "text": [
      "Beginnning recording for 15 seconds...\n",
      "Using input device 'Microphone (Realtek(R) Audio)'\n",
      "Recording ended\n",
      "Finished recording.\n",
      "0.1303825527185899\n",
      "Counter({(13, 604): 3, (25, 1576): 3, (13, 591): 1, (13, 489): 1, (25, 244): 1, (25, 2218): 1, (17, 3667): 1, (13, 280): 1, (25, 2003): 1, (12, 1758): 1, (25, 2355): 1, (17, 3190): 1, (12, 1245): 1, (12, 1538): 1})\n",
      "{13: 6, 25: 7, 17: 2, 12: 3}\n",
      "Mellohi by C418 released in 2021\n",
      "591\n"
     ]
    }
   ],
   "source": [
    "# fan  = Utils.wave_to_fan(Splice.random_splice(\"Songs/Blocks.mp3\", 1)[0])\n",
    "fan = Utils.wave_to_fan(SoundLoader.tape_audio(15)[0])\n",
    "out = base.find_song(fan)\n",
    "print(SongDatabase.get_song(out[0]))\n",
    "print(out[1])"
   ]
  },
  {
   "cell_type": "code",
   "execution_count": 7,
   "metadata": {},
   "outputs": [
    {
     "name": "stdout",
     "output_type": "stream",
     "text": [
      "Counter({2: 3, 1: 1, 4: 1, 5: 1})\n",
      "Counter({2: 2, 5: 2, 1: 1, 4: 1})\n",
      "Counter({2: 5, 5: 3, 1: 2, 4: 2})\n"
     ]
    }
   ],
   "source": [
    "from collections import Counter\n",
    "\n",
    "c1 = Counter([1, 2, 4, 5, 2, 2])\n",
    "c2 = Counter([1, 2, 4, 5, 5, 2])\n",
    "print(c1)\n",
    "print(c2)\n",
    "print(c1 + c2)"
   ]
  }
 ],
 "metadata": {
  "kernelspec": {
   "display_name": "Python 3.7.13 ('week1')",
   "language": "python",
   "name": "python3"
  },
  "language_info": {
   "codemirror_mode": {
    "name": "ipython",
    "version": 3
   },
   "file_extension": ".py",
   "mimetype": "text/x-python",
   "name": "python",
   "nbconvert_exporter": "python",
   "pygments_lexer": "ipython3",
   "version": "3.7.13"
  },
  "orig_nbformat": 4,
  "vscode": {
   "interpreter": {
    "hash": "021268ebb9d1b1811095ee9e08b6a38929b9c54adbe719e76df5ddfc2d8ce2e2"
   }
  }
 },
 "nbformat": 4,
 "nbformat_minor": 2
}
