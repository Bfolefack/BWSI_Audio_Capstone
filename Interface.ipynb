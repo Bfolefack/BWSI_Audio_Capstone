{
 "cells": [
  {
   "cell_type": "code",
   "execution_count": null,
   "id": "a2934dbe",
   "metadata": {},
   "outputs": [],
   "source": [
    "def getSongs():\n",
    "    for i in song_info.values():\n",
    "        print(i)\n",
    "def saveDatabase(Database:str, FileName: str): \n",
    "    with open(FileName, mode = \"wb\") as opened_file:\n",
    "        pickle.dump(Database, opened_file)\n",
    "def loadDatabase(FileName:str):\n",
    "    with open(FileName,\"rb\") as unopened_file:\n",
    "        Database = pickle.load(unopened_file)\n",
    "    return Database"
   ]
  }
 ],
 "metadata": {
  "kernelspec": {
   "display_name": "Python 3 (ipykernel)",
   "language": "python",
   "name": "python3"
  },
  "language_info": {
   "codemirror_mode": {
    "name": "ipython",
    "version": 3
   },
   "file_extension": ".py",
   "mimetype": "text/x-python",
   "name": "python",
   "nbconvert_exporter": "python",
   "pygments_lexer": "ipython3",
   "version": "3.8.13"
  }
 },
 "nbformat": 4,
 "nbformat_minor": 5
}
