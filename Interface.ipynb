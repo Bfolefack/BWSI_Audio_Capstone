{
 "cells": [
  {
   "cell_type": "code",
   "execution_count": null,
   "id": "a2934dbe",
   "metadata": {},
   "outputs": [],
   "source": [
    "import SongDatabase\n",
    "def getSongs():\n",
    "    for i in SongDatabase.song_info.values():\n",
    "        print(i)\n",
    "def saveDatabase(Database:str, FileName: str): \n",
    "    with open(FileName, mode = \"wb\") as opened_file:\n",
    "        pickle.dump(Database, opened_file)\n",
    "def loadDatabase(FileName:str):\n",
    "    with open(FileName,\"rb\") as unopened_file:\n",
    "        Database = pickle.load(unopened_file)\n",
    "    return Database"
   ]
  }
 ],
 "metadata": {
  "kernelspec": {
   "display_name": "Python 3.9.1 64-bit",
   "language": "python",
   "name": "python3"
  },
  "language_info": {
   "codemirror_mode": {
    "name": "ipython",
    "version": 3
   },
   "file_extension": ".py",
   "mimetype": "text/x-python",
   "name": "python",
   "nbconvert_exporter": "python",
   "pygments_lexer": "ipython3",
   "version": "3.9.1"
  },
  "vscode": {
   "interpreter": {
    "hash": "c9e2afdeb152ed6352c76822127449a27540e05e22077e6305090faae3eed51c"
   }
  }
 },
 "nbformat": 4,
 "nbformat_minor": 5
}
