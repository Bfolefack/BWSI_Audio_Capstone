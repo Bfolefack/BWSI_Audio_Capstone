{
 "cells": [
  {
   "cell_type": "code",
   "execution_count": 14,
   "id": "fbb922a5",
   "metadata": {},
   "outputs": [],
   "source": [
    "import numpy as np\n",
    "from IPython.display import Audio\n",
    "import librosa\n",
    "import random\n",
    "from collections import Counter"
   ]
  },
  {
   "cell_type": "code",
   "execution_count": 7,
   "id": "5ffe7298",
   "metadata": {},
   "outputs": [],
   "source": [
    "class song_database:\n",
    "   \n",
    "    def __init__(self):\n",
    "        \n",
    "        self.database = {}\n",
    "\n",
    "    def add_song(self, fanout_m, song_ID):\n",
    "        \"\"\" take in a peak pair, \n",
    "        \n",
    "        Parameters\n",
    "        ----------\n",
    "        ((fm, fn, dt), tm) : \n",
    "            Path to text file containing favorite food survey responses.\n",
    "        fanout_m :\n",
    "\n",
    "        song_ID :\n",
    "\n",
    "        Returns\n",
    "            -------\n",
    "        Dict[tuple, [(tuple)]]\n",
    "            Dictionary with the key being peak pair and value being list of song-IDs and times associated.\n",
    "            \"\"\"\n",
    "        self.fanout_m = fanout_m\n",
    "        self.song_ID = song_ID\n",
    "        for (fm, fn, dt), tm in fanout_m:\n",
    "            if (fm, fn, dt) not in self.database:\n",
    "                self.database[(fm, fn, dt)] = [(song_ID, tm)]\n",
    "            else:\n",
    "                self.database[(fm, fn, dt)].append((song_ID, tm))\n",
    "        \n",
    "    def find_song(self, fanout_new):\n",
    "        sample_list = []\n",
    "        if (fm, fn, dt) in self.database:\n",
    "            for i in self.database[(fm, fn, dt)]:\n",
    "                offset = i[1] - fanout_new[1]\n",
    "                sample_list.append(i[0], offset)\n",
    "                \n",
    "        counter = Counter(sample_list)\n",
    "        counter_values = list(counter.values())\n",
    "        \n",
    "        if counter_values[0] == counter_values[1]:\n",
    "            return None\n",
    "        else: \n",
    "            return counter[0]\n",
    "        \n",
    "            \n",
    "            \n",
    "        \n",
    "\n",
    "                \n",
    "                \n",
    "                \n",
    "        \n",
    "    "
   ]
  },
  {
   "cell_type": "code",
   "execution_count": 35,
   "id": "54dcf79e",
   "metadata": {},
   "outputs": [
    {
     "ename": "TypeError",
     "evalue": "'dict_values' object is not subscriptable",
     "output_type": "error",
     "traceback": [
      "\u001b[1;31m---------------------------------------------------------------------------\u001b[0m",
      "\u001b[1;31mTypeError\u001b[0m                                 Traceback (most recent call last)",
      "Input \u001b[1;32mIn [35]\u001b[0m, in \u001b[0;36m<cell line: 7>\u001b[1;34m()\u001b[0m\n\u001b[0;32m      3\u001b[0m z \u001b[38;5;241m=\u001b[39m []\n\u001b[0;32m      4\u001b[0m y \u001b[38;5;241m=\u001b[39m Counter(x)\u001b[38;5;241m.\u001b[39mvalues()\n\u001b[1;32m----> 7\u001b[0m \u001b[38;5;28mprint\u001b[39m(\u001b[43my\u001b[49m\u001b[43m[\u001b[49m\u001b[38;5;241;43m1\u001b[39;49m\u001b[43m]\u001b[49m)\n",
      "\u001b[1;31mTypeError\u001b[0m: 'dict_values' object is not subscriptable"
     ]
    }
   ],
   "source": []
  },
  {
   "cell_type": "code",
   "execution_count": 6,
   "id": "5c6d15c6",
   "metadata": {},
   "outputs": [
    {
     "ename": "NameError",
     "evalue": "name 'Counter' is not defined",
     "output_type": "error",
     "traceback": [
      "\u001b[1;31m---------------------------------------------------------------------------\u001b[0m",
      "\u001b[1;31mNameError\u001b[0m                                 Traceback (most recent call last)",
      "Input \u001b[1;32mIn [6]\u001b[0m, in \u001b[0;36m<cell line: 3>\u001b[1;34m()\u001b[0m\n\u001b[0;32m      1\u001b[0m x\u001b[38;5;241m=\u001b[39m [\u001b[38;5;241m1\u001b[39m,\u001b[38;5;241m2\u001b[39m,\u001b[38;5;241m3\u001b[39m,\u001b[38;5;241m4\u001b[39m,\u001b[38;5;241m5\u001b[39m,\u001b[38;5;241m5\u001b[39m]\n\u001b[1;32m----> 3\u001b[0m \u001b[43mCounter\u001b[49m(x)\n",
      "\u001b[1;31mNameError\u001b[0m: name 'Counter' is not defined"
     ]
    }
   ],
   "source": []
  },
  {
   "cell_type": "code",
   "execution_count": null,
   "id": "583b8922",
   "metadata": {},
   "outputs": [],
   "source": []
  }
 ],
 "metadata": {
  "kernelspec": {
   "display_name": "Python 3 (ipykernel)",
   "language": "python",
   "name": "python3"
  },
  "language_info": {
   "codemirror_mode": {
    "name": "ipython",
    "version": 3
   },
   "file_extension": ".py",
   "mimetype": "text/x-python",
   "name": "python",
   "nbconvert_exporter": "python",
   "pygments_lexer": "ipython3",
   "version": "3.8.13"
  }
 },
 "nbformat": 4,
 "nbformat_minor": 5
}
